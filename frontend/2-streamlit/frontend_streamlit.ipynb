{
 "cells": [
  {
   "cell_type": "markdown",
   "id": "9078917f",
   "metadata": {},
   "source": [
    "# Frontend: Streamlit UI"
   ]
  },
  {
   "cell_type": "code",
   "execution_count": null,
   "id": "c43a8649",
   "metadata": {},
   "outputs": [],
   "source": [
    "!streamlit run app_streamlit_minimal.py --server.port 8502 --server.headless true"
   ]
  },
  {
   "cell_type": "code",
   "execution_count": null,
   "id": "a63123c9",
   "metadata": {},
   "outputs": [],
   "source": [
    "!streamlit run app_streamlit.py --server.port 8502 --server.headless true"
   ]
  },
  {
   "cell_type": "code",
   "execution_count": null,
   "id": "5d76c70d",
   "metadata": {},
   "outputs": [
    {
     "name": "stdout",
     "output_type": "stream",
     "text": [
      "\u001b[0m\n",
      "\u001b[34m\u001b[1m  You can now view your Streamlit app in your browser.\u001b[0m\n",
      "\u001b[0m\n",
      "\u001b[34m  Local URL: \u001b[0m\u001b[1mhttp://localhost:8502\u001b[0m\n",
      "\u001b[34m  Network URL: \u001b[0m\u001b[1mhttp://192.168.1.9:8502\u001b[0m\n",
      "\u001b[34m  External URL: \u001b[0m\u001b[1mhttp://121.7.170.111:8502\u001b[0m\n",
      "\u001b[0m\n",
      "\u001b[34m\u001b[1m  For better performance, install the Watchdog module:\u001b[0m\n",
      "\n",
      "  $ xcode-select --install\n",
      "  $ pip install watchdog\n",
      "            \u001b[0m\n"
     ]
    }
   ],
   "source": [
    "!streamlit run app_streamlit_exercise.py --server.port 8502 --server.headless true"
   ]
  },
  {
   "cell_type": "code",
   "execution_count": null,
   "id": "5f265637",
   "metadata": {},
   "outputs": [],
   "source": [
    "!streamlit run app_streamlit_exercise_solution.py --server.port 8502 --server.headless true"
   ]
  }
 ],
 "metadata": {
  "kernelspec": {
   "display_name": "cs3249",
   "language": "python",
   "name": "python3"
  },
  "language_info": {
   "codemirror_mode": {
    "name": "ipython",
    "version": 3
   },
   "file_extension": ".py",
   "mimetype": "text/x-python",
   "name": "python",
   "nbconvert_exporter": "python",
   "pygments_lexer": "ipython3",
   "version": "3.11.13"
  }
 },
 "nbformat": 4,
 "nbformat_minor": 5
}
