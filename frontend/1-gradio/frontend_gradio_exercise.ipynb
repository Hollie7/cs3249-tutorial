{
 "cells": [
  {
   "cell_type": "markdown",
   "id": "1d1dfde4",
   "metadata": {},
   "source": [
    "# Frontend: Gradio UI"
   ]
  },
  {
   "cell_type": "markdown",
   "id": "93cca86b",
   "metadata": {},
   "source": [
    "1. This frontend provides a simple chat interface.\n",
    "2. It sends user input to the FastAPI backend and displays the response."
   ]
  },
  {
   "cell_type": "code",
   "execution_count": null,
   "id": "e706b235",
   "metadata": {},
   "outputs": [],
   "source": [
    "import gradio as gr\n",
    "import requests\n",
    "\n",
    "# Function to connect Gradio input to backend\n",
    "def chat_fn(user_input, history):\n",
    "    try:\n",
    "        resp = requests.post(\"http://localhost:8001/chat\", json={\"message\": user_input})\n",
    "        reply = resp.json().get(\"response\", \"[Error: No response]\")\n",
    "    except Exception as e:\n",
    "        reply = f\"[Error: {e}]\"\n",
    "    history.append((user_input, reply))\n",
    "    return history, \"\"\n",
    "\n",
    "# Gradio Chatbot UI\n",
    "with gr.Blocks() as demo:\n",
    "    chatbot = gr.Chatbot()\n",
    "    msg = gr.Textbox(label=\"Type your message\")\n",
    "    clear = gr.Button(\"Clear Chat\")\n",
    "\n",
    "    def user_submit(user_input, history):\n",
    "        return chat_fn(user_input, history)\n",
    "\n",
    "    msg.submit(user_submit, [msg, chatbot], [chatbot, msg])\n",
    "    clear.click(lambda: ([], \"\"), None, [chatbot, msg])\n",
    "\n",
    "demo.launch(inline=False)\n"
   ]
  },
  {
   "cell_type": "markdown",
   "id": "e687c286",
   "metadata": {},
   "source": [
    "# Exercise 1: Gradio UI with advanced features"
   ]
  },
  {
   "cell_type": "code",
   "execution_count": null,
   "id": "36057656",
   "metadata": {},
   "outputs": [],
   "source": [
    "import gradio as gr\n",
    "import requests\n",
    "\n",
    "API_URL = \"http://localhost:8001/chat\"   # change if your backend runs elsewhere\n",
    "\n",
    "# --------------------------\n",
    "# Chat Function (basic)\n",
    "# --------------------------\n",
    "def chat_fn(user_input, history, temperature, max_tokens):\n",
    "    # Basic request payload\n",
    "    payload = {\n",
    "        \"message\": user_input,\n",
    "        # For now we ignore temperature/max_tokens\n",
    "        # Students will later implement sending these to backend\n",
    "    }\n",
    "    try:\n",
    "        resp = requests.post(API_URL, json=payload)\n",
    "        reply = resp.json().get(\"response\", \"[Error: No response]\")\n",
    "    except Exception as e:\n",
    "        reply = f\"[Frontend error: {e}]\"\n",
    "    history.append((user_input, reply))\n",
    "    return history, \"\"\n",
    "\n",
    "\n",
    "# --------------------------\n",
    "# Placeholder Functions (for students to implement)\n",
    "# --------------------------\n",
    "def save_history(history):\n",
    "    # TODO: implement saving history to a file\n",
    "    return \"Saving not implemented yet.\"\n",
    "\n",
    "def ask_about_file(file, history):\n",
    "    # TODO: implement reading file and asking backend a question\n",
    "    return history\n",
    "\n",
    "\n",
    "# --------------------------\n",
    "# UI Layout\n",
    "# --------------------------\n",
    "with gr.Blocks() as demo:\n",
    "    with gr.Row():\n",
    "        # Left: main chat area\n",
    "        with gr.Column(scale=3):\n",
    "            chatbot = gr.Chatbot(label=\"CUI Chatbot\")\n",
    "            msg = gr.Textbox(label=\"Type your message here\")\n",
    "            clear = gr.Button(\"Clear Chat\")\n",
    "\n",
    "        # Right: sidebar with advanced features\n",
    "        with gr.Column(scale=1):\n",
    "            gr.Markdown(\"## Advanced Options\")\n",
    "\n",
    "            # Controls\n",
    "            temp = gr.Slider(0, 1, value=0.7, step=0.1, label=\"Temperature\")\n",
    "            max_toks = gr.Slider(10, 500, value=200, step=10, label=\"Max Tokens\")\n",
    "\n",
    "            save_btn = gr.Button(\"💾 Save History\")\n",
    "            file_upload = gr.File(label=\"Upload a text file\")\n",
    "\n",
    "\n",
    "    # Chat submit\n",
    "    msg.submit(chat_fn, [msg, chatbot, temp, max_toks], [chatbot, msg])\n",
    "    clear.click(lambda: ([], \"\"), None, [chatbot, msg])\n",
    "\n",
    "    # Advanced features (currently stubs)\n",
    "    save_btn.click(save_history, [chatbot], None)\n",
    "    file_upload.upload(ask_about_file, [file_upload, chatbot], [chatbot])\n",
    "\n",
    "\n",
    "demo.launch(inline=False)\n"
   ]
  }
 ],
 "metadata": {
  "kernelspec": {
   "display_name": "cs3249",
   "language": "python",
   "name": "python3"
  },
  "language_info": {
   "codemirror_mode": {
    "name": "ipython",
    "version": 3
   },
   "file_extension": ".py",
   "mimetype": "text/x-python",
   "name": "python",
   "nbconvert_exporter": "python",
   "pygments_lexer": "ipython3",
   "version": "3.11.13"
  }
 },
 "nbformat": 4,
 "nbformat_minor": 5
}
