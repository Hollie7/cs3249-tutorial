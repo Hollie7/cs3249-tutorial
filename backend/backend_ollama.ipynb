{
 "cells": [
  {
   "cell_type": "markdown",
   "id": "c489e6e1",
   "metadata": {},
   "source": [
    "# Backend: Minimal Ollama + FastAPI"
   ]
  },
  {
   "cell_type": "markdown",
   "id": "50278dca",
   "metadata": {},
   "source": [
    "1. This backend creates a REST API with one endpoint (/chat).\n",
    "2. It accepts user input and returns a response from Ollama."
   ]
  },
  {
   "cell_type": "code",
   "execution_count": null,
   "id": "b849e736",
   "metadata": {},
   "outputs": [],
   "source": [
    "from fastapi import FastAPI\n",
    "from pydantic import BaseModel\n",
    "import uvicorn\n",
    "import ollama\n",
    "import threading\n",
    "\n",
    "# Define request body format\n",
    "class ChatRequest(BaseModel):\n",
    "    message: str\n",
    "\n",
    "# Create FastAPI app\n",
    "app = FastAPI()\n",
    "\n",
    "# Chat endpoint\n",
    "@app.post(\"/chat\")\n",
    "def chat_endpoint(req: ChatRequest):\n",
    "    try:\n",
    "        response = ollama.chat(model=\"phi3:mini\", messages=[{\"role\": \"user\", \"content\": req.message}])\n",
    "        return {\"response\": response[\"message\"][\"content\"]}\n",
    "    except Exception as e:\n",
    "        return {\"response\": f\"[Backend error: {e}]\"}\n",
    "\n",
    "# Run FastAPI inside Jupyter (separate thread)\n",
    "def run_backend():\n",
    "    uvicorn.run(app, host=\"0.0.0.0\", port=8000)\n",
    "\n",
    "thread = threading.Thread(target=run_backend, daemon=True)\n",
    "if not thread.is_alive():\n",
    "    thread.start()\n",
    "\n",
    "print(\"✅ Backend running at http://localhost:8000/chat\")\n"
   ]
  }
 ],
 "metadata": {
  "kernelspec": {
   "display_name": "cs3249",
   "language": "python",
   "name": "python3"
  },
  "language_info": {
   "codemirror_mode": {
    "name": "ipython",
    "version": 3
   },
   "file_extension": ".py",
   "mimetype": "text/x-python",
   "name": "python",
   "nbconvert_exporter": "python",
   "pygments_lexer": "ipython3",
   "version": "3.11.13"
  }
 },
 "nbformat": 4,
 "nbformat_minor": 5
}
