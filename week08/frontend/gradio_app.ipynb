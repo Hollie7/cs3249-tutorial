{
 "cells": [
  {
   "cell_type": "code",
   "execution_count": null,
   "id": "4d8cd5e0",
   "metadata": {},
   "outputs": [
    {
     "name": "stderr",
     "output_type": "stream",
     "text": [
      "/opt/anaconda3/envs/cs3249/lib/python3.11/site-packages/tqdm/auto.py:21: TqdmWarning: IProgress not found. Please update jupyter and ipywidgets. See https://ipywidgets.readthedocs.io/en/stable/user_install.html\n",
      "  from .autonotebook import tqdm as notebook_tqdm\n",
      "/opt/anaconda3/envs/cs3249/lib/python3.11/site-packages/gradio/chat_interface.py:348: UserWarning: The 'tuples' format for chatbot messages is deprecated and will be removed in a future version of Gradio. Please set type='messages' instead, which uses openai-style 'role' and 'content' keys.\n",
      "  self.chatbot = Chatbot(\n"
     ]
    },
    {
     "name": "stdout",
     "output_type": "stream",
     "text": [
      "* Running on local URL:  http://127.0.0.1:7860\n",
      "* To create a public link, set `share=True` in `launch()`.\n"
     ]
    },
    {
     "data": {
      "text/html": [
       "<div><iframe src=\"http://127.0.0.1:7860/\" width=\"100%\" height=\"500\" allow=\"autoplay; camera; microphone; clipboard-read; clipboard-write;\" frameborder=\"0\" allowfullscreen></iframe></div>"
      ],
      "text/plain": [
       "<IPython.core.display.HTML object>"
      ]
     },
     "metadata": {},
     "output_type": "display_data"
    },
    {
     "data": {
      "text/plain": []
     },
     "execution_count": 1,
     "metadata": {},
     "output_type": "execute_result"
    },
    {
     "name": "stdout",
     "output_type": "stream",
     "text": [
      "<Response [404]>\n",
      "<Response [200]>\n",
      "<Response [200]>\n",
      "<Response [200]>\n"
     ]
    }
   ],
   "source": [
    "# === 1. Import dependencies ===\n",
    "import gradio as gr\n",
    "import requests\n",
    "\n",
    "# === 2. Define chat functions that call the backend API ===\n",
    "\n",
    "# No RAG mode\n",
    "def chat_no_rag(message, history):\n",
    "    resp = requests.post(\"http://localhost:8000/chat/no_rag\", json={\"message\": message})\n",
    "    print(resp)\n",
    "    data = resp.json()\n",
    "    return data.get(\"answer\", str(data))\n",
    "\n",
    "# With RAG mode\n",
    "def chat_with_rag(message, history):\n",
    "    resp = requests.post(\"http://localhost:8000/chat/rag\", json={\"message\": message})\n",
    "    data = resp.json()\n",
    "    return data.get(\"answer\", str(data))\n",
    "\n",
    "# MCP style mode\n",
    "def chat_mcp(message, history):\n",
    "    tools = requests.get(\"http://localhost:8000/tools\").json()[\"tools\"]\n",
    "\n",
    "    tool_name = \"chat_with_rag\"\n",
    "    if \"time\" in message.lower() or \"date\" in message.lower():\n",
    "        tool_name = \"get_current_time\"\n",
    "\n",
    "    if tool_name == \"get_current_time\":\n",
    "        resp = requests.post(\"http://localhost:8000/call/get_current_time\")\n",
    "    else:\n",
    "        resp = requests.post(\"http://localhost:8000/chat/rag\", json={\"message\": message})\n",
    "\n",
    "    data = resp.json()\n",
    "    return data.get(\"answer\", str(data))\n",
    "\n",
    "\n",
    "# === 3. Build Gradio UI ===\n",
    "with gr.Blocks() as demo:\n",
    "    gr.Markdown(\"## 🔍 RAG vs. No-RAG (Frontend Notebook Demo)\")\n",
    "    \n",
    "    with gr.Tab(\"No RAG\"):\n",
    "        gr.ChatInterface(fn=chat_no_rag, title=\"Chatbot (No RAG)\")\n",
    "    \n",
    "    with gr.Tab(\"With RAG\"):\n",
    "        gr.ChatInterface(fn=chat_with_rag, title=\"Chatbot (RAG Enabled)\")\n",
    "\n",
    "    with gr.Tab(\"MCP\"):\n",
    "        gr.ChatInterface(fn=chat_mcp, title=\"Chatbot (MCP Style Tool Use)\")\n",
    "\n",
    "\n",
    "# === 4. Launch app ===\n",
    "demo.launch()"
   ]
  }
 ],
 "metadata": {
  "kernelspec": {
   "display_name": "cs3249",
   "language": "python",
   "name": "python3"
  },
  "language_info": {
   "codemirror_mode": {
    "name": "ipython",
    "version": 3
   },
   "file_extension": ".py",
   "mimetype": "text/x-python",
   "name": "python",
   "nbconvert_exporter": "python",
   "pygments_lexer": "ipython3",
   "version": "3.11.13"
  }
 },
 "nbformat": 4,
 "nbformat_minor": 5
}
