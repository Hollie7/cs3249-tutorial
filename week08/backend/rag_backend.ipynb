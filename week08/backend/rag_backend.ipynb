{
 "cells": [
  {
   "cell_type": "code",
   "execution_count": 1,
   "id": "13f6708d",
   "metadata": {},
   "outputs": [
    {
     "name": "stdout",
     "output_type": "stream",
     "text": [
      "✅ Backend ready\n"
     ]
    }
   ],
   "source": [
    "import os\n",
    "from dotenv import load_dotenv\n",
    "\n",
    "from langchain_openai import ChatOpenAI, OpenAIEmbeddings\n",
    "from langchain_community.vectorstores import Chroma\n",
    "from langchain.text_splitter import CharacterTextSplitter\n",
    "from langchain_community.document_loaders import TextLoader\n",
    "from langchain.chains import RetrievalQA\n",
    "\n",
    "# Load env\n",
    "load_dotenv()\n",
    "OPENAI_API_KEY = os.getenv(\"OPENAI_API_KEY\")\n",
    "OPENAI_BASE_URL = os.getenv(\"OPENAI_BASE_URL\", \"https://api.openai.com/v1\")\n",
    "OPENAI_MODEL = os.getenv(\"OPENAI_MODEL\", \"gpt-4o-mini\")\n",
    "\n",
    "# Init LLM\n",
    "llm = ChatOpenAI(\n",
    "    model=OPENAI_MODEL,\n",
    "    openai_api_key=OPENAI_API_KEY,\n",
    "    openai_api_base=OPENAI_BASE_URL,\n",
    "    temperature=0,\n",
    ")\n",
    "\n",
    "# Build VectorStore\n",
    "loader = TextLoader(\"../data/sample.txt\")\n",
    "docs = loader.load()\n",
    "\n",
    "splitter = CharacterTextSplitter(chunk_size=200, chunk_overlap=50)\n",
    "split_docs = splitter.split_documents(docs)\n",
    "\n",
    "embeddings = OpenAIEmbeddings(openai_api_key=OPENAI_API_KEY)\n",
    "vectordb = Chroma.from_documents(split_docs, embeddings)\n",
    "retriever = vectordb.as_retriever()\n",
    "\n",
    "rag_chain = RetrievalQA.from_chain_type(\n",
    "    llm=llm,\n",
    "    retriever=retriever,\n",
    "    return_source_documents=True\n",
    ")\n",
    "\n",
    "print(\"✅ Backend ready\")\n"
   ]
  },
  {
   "cell_type": "code",
   "execution_count": 2,
   "id": "d3bf13cf",
   "metadata": {},
   "outputs": [],
   "source": [
    "from fastapi import FastAPI\n",
    "from pydantic import BaseModel\n",
    "import datetime\n",
    "\n",
    "app = FastAPI()\n",
    "\n",
    "class Query(BaseModel):\n",
    "    message: str\n",
    "\n",
    "# No RAG endpoint\n",
    "@app.post(\"/chat/no_rag\")\n",
    "def api_no_rag(query: Query):\n",
    "    response = llm.invoke(query.message)\n",
    "    return {\"answer\": response.content}\n",
    "\n",
    "# With RAG endpoint\n",
    "@app.post(\"/chat/rag\")\n",
    "def api_rag(query: Query):\n",
    "    response = rag_chain.invoke(query.message)\n",
    "    answer = response[\"result\"]\n",
    "    sources = [doc.metadata.get(\"source\", \"sample.txt\") for doc in response[\"source_documents\"]]\n",
    "    return {\"answer\": answer, \"sources\": list(set(sources))}\n",
    "\n",
    "# Tool: get_current_time\n",
    "@app.get(\"/tools\")\n",
    "def list_tools():\n",
    "    return {\n",
    "        \"tools\": [\n",
    "            {\n",
    "                \"name\": \"get_current_time\",\n",
    "                \"description\": \"Return the current server time\",\n",
    "                \"input_schema\": {\n",
    "                    \"type\": \"object\",\n",
    "                    \"properties\": {},\n",
    "                    \"required\": []\n",
    "                }\n",
    "            }\n",
    "        ]\n",
    "    }\n",
    "\n",
    "# No input needed, just return current time\n",
    "@app.post(\"/call/get_current_time\")\n",
    "def get_current_time():\n",
    "    now = datetime.datetime.now().isoformat()\n",
    "    return {\"answer\": now}\n",
    "\n"
   ]
  },
  {
   "cell_type": "code",
   "execution_count": null,
   "id": "0d1414c8",
   "metadata": {},
   "outputs": [
    {
     "name": "stderr",
     "output_type": "stream",
     "text": [
      "INFO:     Started server process [44365]\n",
      "INFO:     Waiting for application startup.\n",
      "INFO:     Application startup complete.\n",
      "INFO:     Uvicorn running on http://0.0.0.0:8000 (Press CTRL+C to quit)\n"
     ]
    },
    {
     "name": "stdout",
     "output_type": "stream",
     "text": [
      "INFO:     127.0.0.1:52602 - \"POST /chat/no_rag HTTP/1.1\" 200 OK\n",
      "INFO:     127.0.0.1:52646 - \"POST /chat/no_rag HTTP/1.1\" 200 OK\n",
      "INFO:     127.0.0.1:52725 - \"POST /chat/no_rag HTTP/1.1\" 200 OK\n",
      "INFO:     127.0.0.1:52815 - \"POST /chat/rag HTTP/1.1\" 200 OK\n",
      "INFO:     127.0.0.1:52868 - \"POST /chat/rag HTTP/1.1\" 200 OK\n",
      "INFO:     127.0.0.1:52992 - \"GET /tools HTTP/1.1\" 200 OK\n",
      "INFO:     127.0.0.1:52994 - \"POST /call/chat_with_rag HTTP/1.1\" 404 Not Found\n",
      "INFO:     127.0.0.1:54740 - \"GET /tools HTTP/1.1\" 200 OK\n",
      "INFO:     127.0.0.1:54742 - \"POST /call/get_current_time HTTP/1.1\" 200 OK\n",
      "INFO:     127.0.0.1:54825 - \"GET /tools HTTP/1.1\" 200 OK\n",
      "INFO:     127.0.0.1:54827 - \"POST /call/chat_with_rag HTTP/1.1\" 404 Not Found\n",
      "INFO:     127.0.0.1:55081 - \"POST /chat/rag HTTP/1.1\" 200 OK\n",
      "INFO:     127.0.0.1:55306 - \"GET /tools HTTP/1.1\" 200 OK\n",
      "INFO:     127.0.0.1:55310 - \"POST /call/chat_with_rag HTTP/1.1\" 404 Not Found\n"
     ]
    }
   ],
   "source": [
    "import nest_asyncio\n",
    "import uvicorn\n",
    "\n",
    "nest_asyncio.apply()\n",
    "uvicorn.run(app, host=\"0.0.0.0\", port=8000)"
   ]
  }
 ],
 "metadata": {
  "kernelspec": {
   "display_name": "cs3249",
   "language": "python",
   "name": "python3"
  },
  "language_info": {
   "codemirror_mode": {
    "name": "ipython",
    "version": 3
   },
   "file_extension": ".py",
   "mimetype": "text/x-python",
   "name": "python",
   "nbconvert_exporter": "python",
   "pygments_lexer": "ipython3",
   "version": "3.11.13"
  }
 },
 "nbformat": 4,
 "nbformat_minor": 5
}
