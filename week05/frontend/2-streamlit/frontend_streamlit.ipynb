{
 "cells": [
  {
   "cell_type": "markdown",
   "id": "9078917f",
   "metadata": {},
   "source": [
    "# Frontend: Streamlit UI"
   ]
  },
  {
   "cell_type": "markdown",
   "id": "3367015e",
   "metadata": {},
   "source": [
    "We provide three versions of the Streamlit frontend to help you gradually explore conversational UIs.\n",
    "\n",
    "💡 Tip: Start from the minimal version to ensure your backend is working, then explore the parameterized version, and finally attempt the full exercise."
   ]
  },
  {
   "cell_type": "markdown",
   "id": "b457d14e",
   "metadata": {},
   "source": [
    "### Version 1: A minimal example of a Streamlit chatbot UI.\n",
    "\n",
    "- Features:\n",
    "\n",
    "    - Single session.\n",
    "\n",
    "    - Sends only a user message ({\"message\": ...}) to the backend.\n",
    "\n",
    "    - Displays the conversation using st.chat_message.\n",
    "\n",
    "- Use case: Best for understanding the basic loop: user input → backend call → assistant reply."
   ]
  },
  {
   "cell_type": "code",
   "execution_count": null,
   "id": "c43a8649",
   "metadata": {},
   "outputs": [],
   "source": [
    "!streamlit run app_streamlit_minimal.py --server.port 8502 --server.headless true"
   ]
  },
  {
   "cell_type": "markdown",
   "id": "96df5f39",
   "metadata": {},
   "source": [
    "### Version 2: A more advanced version with configurable parameters.\n",
    "\n",
    "- Features:\n",
    "\n",
    "    - Sidebar controls to adjust backend URL, temperature, max_tokens, and session_id.\n",
    "\n",
    "    - Ability to clear the conversation.\n",
    "\n",
    "    - History maintained in st.session_state.\n",
    "\n",
    "- Use case: Demonstrates how to build a parameterized, stateful frontend that passes generation settings to the backend."
   ]
  },
  {
   "cell_type": "code",
   "execution_count": null,
   "id": "a63123c9",
   "metadata": {},
   "outputs": [],
   "source": [
    "!streamlit run app_streamlit.py --server.port 8502 --server.headless true"
   ]
  },
  {
   "cell_type": "markdown",
   "id": "7e171337",
   "metadata": {},
   "source": [
    "### Version 3: A scaffolded version for you to implement.\n",
    "\n",
    "- Features given:\n",
    "\n",
    "    - Sidebar UI for session management and generation parameters.\n",
    "\n",
    "    - Chat + analytics layout (chat on the left, analytics on the right).\n",
    "\n",
    "- Your tasks:\n",
    "\n",
    "    - Session management\n",
    "\n",
    "        - Implement create_new_session, switch_session, clear_current_session, get_history, append_turn so that multiple sessions can be created, switched, and cleared.\n",
    "\n",
    "        - Each session should have its own conversation history.\n",
    "\n",
    "    - Chat function\n",
    "\n",
    "        - Implement send_to_backend so that it posts messages (including temperature, max_tokens, and session_id) to the backend and handles the response safely.\n",
    "\n",
    "    - Analytics\n",
    "\n",
    "        - Implement compute_analytics to compute statistics (turn counts, lengths, etc.).\n",
    "\n",
    "        - Implement render_analytics_charts to display plots (e.g., message lengths per turn, role counts).\n",
    "\n",
    "**Reminder:**\n",
    "To try this exercise, you need to run the extended GPT backend that supports multi-turn conversation and sessions:"
   ]
  },
  {
   "cell_type": "code",
   "execution_count": null,
   "id": "5d76c70d",
   "metadata": {},
   "outputs": [],
   "source": [
    "!streamlit run app_streamlit_exercise.py --server.port 8502 --server.headless true"
   ]
  },
  {
   "cell_type": "code",
   "execution_count": null,
   "id": "5f265637",
   "metadata": {},
   "outputs": [],
   "source": [
    "!streamlit run app_streamlit_exercise_solution.py --server.port 8502 --server.headless true"
   ]
  }
 ],
 "metadata": {
  "kernelspec": {
   "display_name": "cs3249",
   "language": "python",
   "name": "python3"
  },
  "language_info": {
   "codemirror_mode": {
    "name": "ipython",
    "version": 3
   },
   "file_extension": ".py",
   "mimetype": "text/x-python",
   "name": "python",
   "nbconvert_exporter": "python",
   "pygments_lexer": "ipython3",
   "version": "3.11.13"
  }
 },
 "nbformat": 4,
 "nbformat_minor": 5
}
